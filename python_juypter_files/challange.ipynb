{
 "cells": [
  {
   "cell_type": "markdown",
   "id": "3aa91e45-507f-4af3-8066-46439df26648",
   "metadata": {},
   "source": [
    "# Challange "
   ]
  },
  {
   "cell_type": "code",
   "execution_count": 1,
   "id": "48031361-e337-41df-b9c9-4652467ba4a8",
   "metadata": {},
   "outputs": [],
   "source": [
    "import pandas as pd"
   ]
  },
  {
   "cell_type": "code",
   "execution_count": 2,
   "id": "459fac6a-f43f-4072-91d3-979eefb99dff",
   "metadata": {},
   "outputs": [],
   "source": [
    "names = ['id','title','year','rating','votes','length','genres']\n",
    "data = pd.read_csv('imdb_top_10000.txt', sep=\"\\t\", names=names, index_col=0)"
   ]
  },
  {
   "cell_type": "code",
   "execution_count": 11,
   "id": "5584e6a9-1526-48fb-bdb8-69d242f4b0b5",
   "metadata": {},
   "outputs": [],
   "source": [
    "movie_1996 = data[data['year'] == 1996].sort_values(by='rating', ascending=False).head"
   ]
  },
  {
   "cell_type": "code",
   "execution_count": 12,
   "id": "48540dd5-2166-4e73-853a-76638e2ea50a",
   "metadata": {},
   "outputs": [
    {
     "data": {
      "text/plain": [
       "<bound method NDFrame.head of                                                title  year  rating   votes  \\\n",
       "id                                                                           \n",
       "tt0116282                               Fargo (1996)  1996     8.3  187498   \n",
       "tt0116231                          The Bandit (1996)  1996     8.3   13288   \n",
       "tt0117951                       Trainspotting (1996)  1996     8.2  175993   \n",
       "tt0117666                         Sling Blade (1996)  1996     8.0   44316   \n",
       "tt0117589                      Secrets & Lies (1996)  1996     8.0   15435   \n",
       "...                                              ...   ...     ...     ...   \n",
       "tt0116165                                  Ed (1996)  1996     2.4    4085   \n",
       "tt0116839  Lawnmower Man 2: Beyond Cyberspace (1996)  1996     2.2    5299   \n",
       "tt0117676                   Snowboard Academy (1996)  1996     2.2    1776   \n",
       "tt0117550                  Santa with Muscles (1996)  1996     2.1    6420   \n",
       "tt0174917   Merlin's Shop of Mystical Wonders (1996)  1996     1.7    2362   \n",
       "\n",
       "              length                               genres  \n",
       "id                                                         \n",
       "tt0116282   98 mins.                 Crime|Drama|Thriller  \n",
       "tt0116231  121 mins.  Action|Crime|Drama|Romance|Thriller  \n",
       "tt0117951   94 mins.                          Crime|Drama  \n",
       "tt0117666  135 mins.                                Drama  \n",
       "tt0117589  142 mins.                         Comedy|Drama  \n",
       "...              ...                                  ...  \n",
       "tt0116165   94 mins.                  Comedy|Family|Sport  \n",
       "tt0116839   92 mins.               Action|Sci-Fi|Thriller  \n",
       "tt0117676   88 mins.                         Comedy|Sport  \n",
       "tt0117550   97 mins.                        Family|Comedy  \n",
       "tt0174917   92 mins.                       Fantasy|Horror  \n",
       "\n",
       "[265 rows x 6 columns]>"
      ]
     },
     "execution_count": 12,
     "metadata": {},
     "output_type": "execute_result"
    }
   ],
   "source": [
    "movie_1996"
   ]
  },
  {
   "cell_type": "code",
   "execution_count": 32,
   "id": "7de6351d-cab6-44fc-bebd-eac89566517b",
   "metadata": {},
   "outputs": [],
   "source": [
    "high = data.nlargest(2, 'rating')"
   ]
  },
  {
   "cell_type": "code",
   "execution_count": 33,
   "id": "68be1549-e8f4-481f-924e-48bd2fd2ef55",
   "metadata": {},
   "outputs": [
    {
     "name": "stdout",
     "output_type": "stream",
     "text": [
      "                                     title  year  rating   votes     length  \\\n",
      "id                                                                            \n",
      "tt0111161  The Shawshank Redemption (1994)  1994     9.2  619479  142 mins.   \n",
      "tt0068646             The Godfather (1972)  1972     9.2  474189  175 mins.   \n",
      "\n",
      "                genres  \n",
      "id                      \n",
      "tt0111161  Crime|Drama  \n",
      "tt0068646  Crime|Drama  \n"
     ]
    }
   ],
   "source": [
    "print(high)"
   ]
  },
  {
   "cell_type": "code",
   "execution_count": 35,
   "id": "37533489-0c75-4840-bbbd-ec9878bab503",
   "metadata": {},
   "outputs": [
    {
     "data": {
      "text/html": [
       "<div>\n",
       "<style scoped>\n",
       "    .dataframe tbody tr th:only-of-type {\n",
       "        vertical-align: middle;\n",
       "    }\n",
       "\n",
       "    .dataframe tbody tr th {\n",
       "        vertical-align: top;\n",
       "    }\n",
       "\n",
       "    .dataframe thead th {\n",
       "        text-align: right;\n",
       "    }\n",
       "</style>\n",
       "<table border=\"1\" class=\"dataframe\">\n",
       "  <thead>\n",
       "    <tr style=\"text-align: right;\">\n",
       "      <th></th>\n",
       "      <th>title</th>\n",
       "      <th>year</th>\n",
       "      <th>rating</th>\n",
       "      <th>votes</th>\n",
       "      <th>length</th>\n",
       "      <th>genres</th>\n",
       "    </tr>\n",
       "    <tr>\n",
       "      <th>id</th>\n",
       "      <th></th>\n",
       "      <th></th>\n",
       "      <th></th>\n",
       "      <th></th>\n",
       "      <th></th>\n",
       "      <th></th>\n",
       "    </tr>\n",
       "  </thead>\n",
       "  <tbody>\n",
       "    <tr>\n",
       "      <th>tt0111161</th>\n",
       "      <td>The Shawshank Redemption (1994)</td>\n",
       "      <td>1994</td>\n",
       "      <td>9.2</td>\n",
       "      <td>619479</td>\n",
       "      <td>142 mins.</td>\n",
       "      <td>Crime|Drama</td>\n",
       "    </tr>\n",
       "    <tr>\n",
       "      <th>tt0468569</th>\n",
       "      <td>The Dark Knight (2008)</td>\n",
       "      <td>2008</td>\n",
       "      <td>8.9</td>\n",
       "      <td>555122</td>\n",
       "      <td>152 mins.</td>\n",
       "      <td>Action|Crime|Drama|Thriller</td>\n",
       "    </tr>\n",
       "    <tr>\n",
       "      <th>tt0110912</th>\n",
       "      <td>Pulp Fiction (1994)</td>\n",
       "      <td>1994</td>\n",
       "      <td>9.0</td>\n",
       "      <td>490065</td>\n",
       "      <td>154 mins.</td>\n",
       "      <td>Crime|Thriller</td>\n",
       "    </tr>\n",
       "    <tr>\n",
       "      <th>tt0068646</th>\n",
       "      <td>The Godfather (1972)</td>\n",
       "      <td>1972</td>\n",
       "      <td>9.2</td>\n",
       "      <td>474189</td>\n",
       "      <td>175 mins.</td>\n",
       "      <td>Crime|Drama</td>\n",
       "    </tr>\n",
       "    <tr>\n",
       "      <th>tt0137523</th>\n",
       "      <td>Fight Club (1999)</td>\n",
       "      <td>1999</td>\n",
       "      <td>8.8</td>\n",
       "      <td>458173</td>\n",
       "      <td>139 mins.</td>\n",
       "      <td>Drama|Mystery|Thriller</td>\n",
       "    </tr>\n",
       "  </tbody>\n",
       "</table>\n",
       "</div>"
      ],
      "text/plain": [
       "                                     title  year  rating   votes     length  \\\n",
       "id                                                                            \n",
       "tt0111161  The Shawshank Redemption (1994)  1994     9.2  619479  142 mins.   \n",
       "tt0468569           The Dark Knight (2008)  2008     8.9  555122  152 mins.   \n",
       "tt0110912              Pulp Fiction (1994)  1994     9.0  490065  154 mins.   \n",
       "tt0068646             The Godfather (1972)  1972     9.2  474189  175 mins.   \n",
       "tt0137523                Fight Club (1999)  1999     8.8  458173  139 mins.   \n",
       "\n",
       "                                genres  \n",
       "id                                      \n",
       "tt0111161                  Crime|Drama  \n",
       "tt0468569  Action|Crime|Drama|Thriller  \n",
       "tt0110912               Crime|Thriller  \n",
       "tt0068646                  Crime|Drama  \n",
       "tt0137523       Drama|Mystery|Thriller  "
      ]
     },
     "execution_count": 35,
     "metadata": {},
     "output_type": "execute_result"
    }
   ],
   "source": [
    "data.nlargest(5, 'votes')"
   ]
  },
  {
   "cell_type": "code",
   "execution_count": 37,
   "id": "bac438ca-f33f-4a1e-8b20-3e471ec1658c",
   "metadata": {},
   "outputs": [],
   "source": [
    "highest_avg = data[data['year'].between(1960, 1969)].groupby('year')['rating'].mean().idxmax()"
   ]
  },
  {
   "cell_type": "code",
   "execution_count": 38,
   "id": "718d85bf-5f6a-43d4-a6ad-97dff15ba83f",
   "metadata": {},
   "outputs": [
    {
     "data": {
      "text/plain": [
       "1962"
      ]
     },
     "execution_count": 38,
     "metadata": {},
     "output_type": "execute_result"
    }
   ],
   "source": [
    "highest_avg"
   ]
  },
  {
   "cell_type": "code",
   "execution_count": null,
   "id": "cdd74d18-1cdd-4f82-84ad-174486c5d35d",
   "metadata": {},
   "outputs": [],
   "source": []
  }
 ],
 "metadata": {
  "kernelspec": {
   "display_name": "Python 3 (ipykernel)",
   "language": "python",
   "name": "python3"
  },
  "language_info": {
   "codemirror_mode": {
    "name": "ipython",
    "version": 3
   },
   "file_extension": ".py",
   "mimetype": "text/x-python",
   "name": "python",
   "nbconvert_exporter": "python",
   "pygments_lexer": "ipython3",
   "version": "3.10.13"
  }
 },
 "nbformat": 4,
 "nbformat_minor": 5
}
